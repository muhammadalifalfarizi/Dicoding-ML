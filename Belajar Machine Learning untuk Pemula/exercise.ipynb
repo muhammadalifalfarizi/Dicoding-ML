{
 "cells": [
  {
   "cell_type": "code",
   "execution_count": 1,
   "metadata": {},
   "outputs": [
    {
     "name": "stdout",
     "output_type": "stream",
     "text": [
      "2.12.0\n"
     ]
    }
   ],
   "source": [
    "import tensorflow as tf\n",
    "print(tf.__version__)"
   ]
  },
  {
   "cell_type": "code",
   "execution_count": 7,
   "metadata": {},
   "outputs": [],
   "source": [
    "import zipfile, os\n",
    "local_zip = 'messy-vs-clean-room.zip'\n",
    "zip_ref = zipfile.ZipFile(local_zip, 'r')\n",
    "zip_ref.extractall('/tmp')\n",
    "zip_ref.close()\n",
    "\n",
    "base_dir = '/tmp/images'\n",
    "train_dir = os.path.join(base_dir, 'train')\n",
    "validation_dir = os.path.join(base_dir, 'val')"
   ]
  },
  {
   "cell_type": "code",
   "execution_count": 8,
   "metadata": {},
   "outputs": [
    {
     "data": {
      "text/plain": [
       "['clean', 'messy']"
      ]
     },
     "execution_count": 8,
     "metadata": {},
     "output_type": "execute_result"
    }
   ],
   "source": [
    "os.listdir('/tmp/images/train')"
   ]
  },
  {
   "cell_type": "code",
   "execution_count": 9,
   "metadata": {},
   "outputs": [
    {
     "data": {
      "text/plain": [
       "['clean', 'messy']"
      ]
     },
     "execution_count": 9,
     "metadata": {},
     "output_type": "execute_result"
    }
   ],
   "source": [
    "os.listdir('/tmp/images/val')"
   ]
  },
  {
   "cell_type": "code",
   "execution_count": 12,
   "metadata": {},
   "outputs": [],
   "source": [
    "from tensorflow.keras.preprocessing.image import ImageDataGenerator\n",
    "\n",
    "train_datagen = ImageDataGenerator(\n",
    "    rescale=1./255,\n",
    "    rotation_range=20,\n",
    "    horizontal_flip=True,\n",
    "    shear_range=0.2,\n",
    "    fill_mode='nearest'\n",
    ")\n",
    "\n",
    "test_datagen = ImageDataGenerator(\n",
    "    rescale=1./255\n",
    ")"
   ]
  },
  {
   "cell_type": "code",
   "execution_count": 14,
   "metadata": {},
   "outputs": [
    {
     "name": "stdout",
     "output_type": "stream",
     "text": [
      "Found 192 images belonging to 2 classes.\n",
      "Found 20 images belonging to 2 classes.\n"
     ]
    }
   ],
   "source": [
    "train_generator = train_datagen.flow_from_directory(\n",
    "    train_dir, # direktori data latih\n",
    "    target_size=(150, 150), # mengubah resolusi seluruh gambar menjadi 150 x 150 piksel\n",
    "    batch_size=4,\n",
    "    # karena ini merupakan masalah klasifikasi 2 kelas, gunakan class_mode = 'binary'\n",
    "    class_mode='binary')\n",
    "\n",
    "validation_generator = test_datagen.flow_from_directory(\n",
    "    validation_dir, # direktori data validasi\n",
    "    target_size=(150, 150), # mengubah resolusi seluruh gambar menjadi 150 x 150 piksel\n",
    "    batch_size=4, \n",
    "    class_mode='binary')"
   ]
  },
  {
   "cell_type": "markdown",
   "metadata": {},
   "source": [
    "model = tf.keras.models.Sequential([\n",
    "    tf.keras.layers.Conv2D(32, (3,3), activation='relu', input_shape=(150, 150, 3)),\n",
    "    tf.keras.layers.MaxPooling2D(2, 2),\n",
    "    tf.keras.layers.Conv2D(64, (3,3), activation='relu'),\n",
    "    tf.keras.layers.MaxPooling2D(2,2),\n",
    "    tf.keras.layers.Conv2D(128, (3,3), activation='relu'),\n",
    "    tf.keras.layers.MaxPooling2D(2,2),\n",
    "    tf.keras.layers.Conv2D(512, (3,3), activation='relu'),\n",
    "    tf.keras.layers.MaxPooling2D(2,2),\n",
    "    tf.keras.layers.Flatten(),\n",
    "    tf.keras.layers.Dense(512, activation='relu'),\n",
    "    tf.keras.layers.Dense(1, activation='sigmoid')\n",
    "])"
   ]
  },
  {
   "cell_type": "code",
   "execution_count": 15,
   "metadata": {},
   "outputs": [],
   "source": [
    "model = tf.keras.models.Sequential([\n",
    "    tf.keras.layers.Conv2D(32, (3,3), activation='relu', input_shape=(150, 150, 3)),\n",
    "    tf.keras.layers.MaxPooling2D(2, 2),\n",
    "    tf.keras.layers.Conv2D(64, (3,3), activation='relu'),\n",
    "    tf.keras.layers.MaxPooling2D(2,2),\n",
    "    tf.keras.layers.Conv2D(128, (3,3), activation='relu'),\n",
    "    tf.keras.layers.MaxPooling2D(2,2),\n",
    "    tf.keras.layers.Conv2D(512, (3,3), activation='relu'),\n",
    "    tf.keras.layers.MaxPooling2D(2,2),\n",
    "    tf.keras.layers.Flatten(),\n",
    "    tf.keras.layers.Dense(512, activation='relu'),\n",
    "    tf.keras.layers.Dense(1, activation='sigmoid')\n",
    "])"
   ]
  },
  {
   "cell_type": "code",
   "execution_count": 16,
   "metadata": {},
   "outputs": [
    {
     "name": "stdout",
     "output_type": "stream",
     "text": [
      "Model: \"sequential\"\n",
      "_________________________________________________________________\n",
      " Layer (type)                Output Shape              Param #   \n",
      "=================================================================\n",
      " conv2d (Conv2D)             (None, 148, 148, 32)      896       \n",
      "                                                                 \n",
      " max_pooling2d (MaxPooling2D  (None, 74, 74, 32)       0         \n",
      " )                                                               \n",
      "                                                                 \n",
      " conv2d_1 (Conv2D)           (None, 72, 72, 64)        18496     \n",
      "                                                                 \n",
      " max_pooling2d_1 (MaxPooling  (None, 36, 36, 64)       0         \n",
      " 2D)                                                             \n",
      "                                                                 \n",
      " conv2d_2 (Conv2D)           (None, 34, 34, 128)       73856     \n",
      "                                                                 \n",
      " max_pooling2d_2 (MaxPooling  (None, 17, 17, 128)      0         \n",
      " 2D)                                                             \n",
      "                                                                 \n",
      " conv2d_3 (Conv2D)           (None, 15, 15, 512)       590336    \n",
      "                                                                 \n",
      " max_pooling2d_3 (MaxPooling  (None, 7, 7, 512)        0         \n",
      " 2D)                                                             \n",
      "                                                                 \n",
      " flatten (Flatten)           (None, 25088)             0         \n",
      "                                                                 \n",
      " dense (Dense)               (None, 512)               12845568  \n",
      "                                                                 \n",
      " dense_1 (Dense)             (None, 1)                 513       \n",
      "                                                                 \n",
      "=================================================================\n",
      "Total params: 13,529,665\n",
      "Trainable params: 13,529,665\n",
      "Non-trainable params: 0\n",
      "_________________________________________________________________\n"
     ]
    }
   ],
   "source": [
    "model.summary()"
   ]
  },
  {
   "cell_type": "code",
   "execution_count": 17,
   "metadata": {},
   "outputs": [],
   "source": [
    "# compile model dengan 'adam' optimizer loss function 'binary_crossentropy' \n",
    "model.compile(loss='binary_crossentropy',\n",
    "              optimizer=tf.optimizers.Adam(),\n",
    "              metrics=['accuracy'])"
   ]
  },
  {
   "cell_type": "code",
   "execution_count": 18,
   "metadata": {},
   "outputs": [
    {
     "name": "stdout",
     "output_type": "stream",
     "text": [
      "Epoch 1/20\n",
      "25/25 - 12s - loss: 0.6858 - accuracy: 0.5100 - val_loss: 0.6744 - val_accuracy: 0.5500 - 12s/epoch - 484ms/step\n",
      "Epoch 2/20\n",
      "25/25 - 9s - loss: 0.7341 - accuracy: 0.5900 - val_loss: 1.0168 - val_accuracy: 0.5000 - 9s/epoch - 346ms/step\n",
      "Epoch 3/20\n",
      "25/25 - 10s - loss: 0.7283 - accuracy: 0.5600 - val_loss: 0.6918 - val_accuracy: 0.5000 - 10s/epoch - 382ms/step\n",
      "Epoch 4/20\n",
      "25/25 - 9s - loss: 0.6914 - accuracy: 0.4800 - val_loss: 0.6698 - val_accuracy: 0.5000 - 9s/epoch - 342ms/step\n",
      "Epoch 5/20\n",
      "25/25 - 9s - loss: 0.6771 - accuracy: 0.5900 - val_loss: 0.6325 - val_accuracy: 0.6500 - 9s/epoch - 345ms/step\n",
      "Epoch 6/20\n",
      "25/25 - 10s - loss: 0.6824 - accuracy: 0.6000 - val_loss: 0.5161 - val_accuracy: 0.7500 - 10s/epoch - 402ms/step\n",
      "Epoch 7/20\n",
      "25/25 - 14s - loss: 0.6451 - accuracy: 0.6800 - val_loss: 0.6743 - val_accuracy: 0.6000 - 14s/epoch - 573ms/step\n",
      "Epoch 8/20\n",
      "25/25 - 11s - loss: 0.7553 - accuracy: 0.6100 - val_loss: 0.8029 - val_accuracy: 0.5000 - 11s/epoch - 424ms/step\n",
      "Epoch 9/20\n",
      "25/25 - 9s - loss: 0.7046 - accuracy: 0.5400 - val_loss: 0.6916 - val_accuracy: 0.5000 - 9s/epoch - 377ms/step\n",
      "Epoch 10/20\n",
      "25/25 - 10s - loss: 0.6950 - accuracy: 0.4500 - val_loss: 0.6929 - val_accuracy: 0.6000 - 10s/epoch - 393ms/step\n",
      "Epoch 11/20\n",
      "25/25 - 9s - loss: 0.6925 - accuracy: 0.5300 - val_loss: 0.6918 - val_accuracy: 0.5000 - 9s/epoch - 345ms/step\n",
      "Epoch 12/20\n",
      "25/25 - 9s - loss: 0.6930 - accuracy: 0.4900 - val_loss: 0.6950 - val_accuracy: 0.5000 - 9s/epoch - 344ms/step\n",
      "Epoch 13/20\n",
      "25/25 - 9s - loss: 0.6946 - accuracy: 0.5200 - val_loss: 0.6924 - val_accuracy: 0.5000 - 9s/epoch - 344ms/step\n",
      "Epoch 14/20\n",
      "25/25 - 9s - loss: 0.6936 - accuracy: 0.4900 - val_loss: 0.6922 - val_accuracy: 0.5000 - 9s/epoch - 343ms/step\n",
      "Epoch 15/20\n",
      "25/25 - 9s - loss: 0.6910 - accuracy: 0.5000 - val_loss: 0.6887 - val_accuracy: 0.5000 - 9s/epoch - 342ms/step\n",
      "Epoch 16/20\n",
      "25/25 - 9s - loss: 0.6785 - accuracy: 0.6200 - val_loss: 0.9007 - val_accuracy: 0.5000 - 9s/epoch - 341ms/step\n",
      "Epoch 17/20\n",
      "25/25 - 9s - loss: 0.7097 - accuracy: 0.5300 - val_loss: 0.6817 - val_accuracy: 0.6000 - 9s/epoch - 342ms/step\n",
      "Epoch 18/20\n",
      "25/25 - 9s - loss: 0.6564 - accuracy: 0.5700 - val_loss: 0.6645 - val_accuracy: 0.5500 - 9s/epoch - 341ms/step\n",
      "Epoch 19/20\n",
      "25/25 - 9s - loss: 0.6000 - accuracy: 0.7800 - val_loss: 0.5673 - val_accuracy: 0.7500 - 9s/epoch - 341ms/step\n",
      "Epoch 20/20\n",
      "25/25 - 9s - loss: 0.7002 - accuracy: 0.4300 - val_loss: 0.6873 - val_accuracy: 0.6500 - 9s/epoch - 347ms/step\n"
     ]
    },
    {
     "data": {
      "text/plain": [
       "<keras.callbacks.History at 0x275be48b850>"
      ]
     },
     "execution_count": 18,
     "metadata": {},
     "output_type": "execute_result"
    }
   ],
   "source": [
    "# latih model dengan model.fit\n",
    "model.fit(\n",
    "    train_generator,\n",
    "    steps_per_epoch=25, # berapa batch yang akan dieksekusi pada setiap epoch\n",
    "    epochs=20, # tambahkan epochs jika akurasi model belum optimal\n",
    "    validation_data=validation_generator, # menampilkan akurasi pengujian data validasi\n",
    "    validation_steps=5, # berapa batch yang akan dieksekusi pada setiap epoch\n",
    "    verbose=2)"
   ]
  },
  {
   "cell_type": "code",
   "execution_count": 23,
   "metadata": {},
   "outputs": [],
   "source": [
    "# import numpy as np\n",
    "# from google.colab import files\n",
    "# from tensorflow.keras.preprocessing import image\n",
    "# import matplotlib.pyplot as plt\n",
    "# import matplotlib.image as mpimg\n",
    "# %matplotlib inline\n",
    " \n",
    "# uploaded = files.upload()\n",
    " \n",
    "# for fn in uploaded.keys():\n",
    " \n",
    "#   # predicting images\n",
    "#   path = fn\n",
    "#   img = image.load_img(path, target_size=(150,150))\n",
    " \n",
    "#   imgplot = plt.imshow(img)\n",
    "#   x = image.img_to_array(img)\n",
    "#   x = np.expand_dims(x, axis=0)\n",
    "#   images = np.vstack([x])\n",
    " \n",
    "#   classes = model.predict(images, batch_size=10)  \n",
    "#   print(fn)\n",
    "#   if classes==0:\n",
    "#    print('clean')\n",
    "#   else:\n",
    "#    print('messy')"
   ]
  }
 ],
 "metadata": {
  "kernelspec": {
   "display_name": "Python 3",
   "language": "python",
   "name": "python3"
  },
  "language_info": {
   "codemirror_mode": {
    "name": "ipython",
    "version": 3
   },
   "file_extension": ".py",
   "mimetype": "text/x-python",
   "name": "python",
   "nbconvert_exporter": "python",
   "pygments_lexer": "ipython3",
   "version": "3.11.2"
  },
  "orig_nbformat": 4
 },
 "nbformat": 4,
 "nbformat_minor": 2
}
